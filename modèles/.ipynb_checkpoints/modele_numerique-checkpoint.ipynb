{
 "cells": [
  {
   "cell_type": "code",
   "execution_count": null,
   "id": "417b5203-a4f9-4d73-ab87-7a7974b0fce9",
   "metadata": {},
   "outputs": [],
   "source": [
    "import pandas as pd\n",
    "import numpy as np\n",
    "import matplotlib.pyplot as plt\n",
    "from sklearn.model_selection import train_test_split\n",
    "from sklearn.ensemble import RandomForestRegressor\n",
    "from sklearn.metrics import mean_absolute_error, r2_score"
   ]
  },
  {
   "cell_type": "code",
   "execution_count": null,
   "id": "8bfaf90a-6375-43ab-af61-83ace5756030",
   "metadata": {},
   "outputs": [],
   "source": [
    "df = pd.read_csv(\"données/dataset_tfhe_execution_times.csv\")\n",
    "df.head()"
   ]
  },
  {
   "cell_type": "code",
   "execution_count": null,
   "id": "dd6cb6af-2900-47b5-b234-6495bf32a436",
   "metadata": {},
   "outputs": [],
   "source": [
    "df.info()\n",
    "df.isnull().sum()"
   ]
  },
  {
   "cell_type": "code",
   "execution_count": null,
   "id": "866a6d83-0b51-463e-99fc-f8660fdd40b5",
   "metadata": {},
   "outputs": [],
   "source": [
    "df[\"ecart_type_s\"] = df[\"ecart_type_s\"].fillna(0)"
   ]
  },
  {
   "cell_type": "code",
   "execution_count": null,
   "id": "28d94b70-47ca-408d-a5b5-8db96c52d411",
   "metadata": {},
   "outputs": [],
   "source": [
    "df_encoded = pd.get_dummies(df, columns=[\"operation\", \"param_tfhe\", \"type_donnee\", \"echelle\"])"
   ]
  },
  {
   "cell_type": "code",
   "execution_count": null,
   "id": "a4ca572c-4aba-4a57-9947-38fd543f73eb",
   "metadata": {},
   "outputs": [],
   "source": [
    "X = df_encoded.drop(columns=[\"temps_moyen_s\"])\n",
    "y = df_encoded[\"temps_moyen_s\"]"
   ]
  },
  {
   "cell_type": "code",
   "execution_count": null,
   "id": "0747955b-1cbf-41e4-9063-7c041ee310fb",
   "metadata": {},
   "outputs": [],
   "source": [
    "X_train, X_test, y_train, y_test = train_test_split(X, y, test_size=0.2, random_state=42)"
   ]
  },
  {
   "cell_type": "code",
   "execution_count": null,
   "id": "1e651ebc-25fa-4c0a-b0b0-be15314a7bc7",
   "metadata": {},
   "outputs": [],
   "source": [
    "model = RandomForestRegressor(n_estimators=100, random_state=42)\n",
    "model.fit(X_train, y_train)"
   ]
  },
  {
   "cell_type": "code",
   "execution_count": null,
   "id": "d8341f91-0801-422e-8497-833b213c6969",
   "metadata": {},
   "outputs": [],
   "source": [
    "y_pred = model.predict(X_test)\n",
    "\n",
    "print(\"MAE :\", mean_absolute_error(y_test, y_pred))\n",
    "print(\"R² :\", r2_score(y_test, y_pred))"
   ]
  },
  {
   "cell_type": "code",
   "execution_count": null,
   "id": "49cd53c0-53e2-4c9d-85c7-6919e223bc12",
   "metadata": {},
   "outputs": [],
   "source": [
    "importances = model.feature_importances_\n",
    "feature_names = X.columns\n",
    "\n",
    "plt.figure(figsize=(10, 8))\n",
    "plt.barh(feature_names, importances)\n",
    "plt.title(\"Importance des variables\")\n",
    "plt.xlabel(\"Score\")\n",
    "plt.tight_layout()\n",
    "plt.show()"
   ]
  }
 ],
 "metadata": {
  "kernelspec": {
   "display_name": "Python [conda env:base] *",
   "language": "python",
   "name": "conda-base-py"
  },
  "language_info": {
   "codemirror_mode": {
    "name": "ipython",
    "version": 3
   },
   "file_extension": ".py",
   "mimetype": "text/x-python",
   "name": "python",
   "nbconvert_exporter": "python",
   "pygments_lexer": "ipython3",
   "version": "3.12.7"
  }
 },
 "nbformat": 4,
 "nbformat_minor": 5
}
